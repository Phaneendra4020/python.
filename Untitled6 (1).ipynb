{
  "nbformat": 4,
  "nbformat_minor": 0,
  "metadata": {
    "colab": {
      "provenance": []
    },
    "kernelspec": {
      "name": "python3",
      "display_name": "Python 3"
    },
    "language_info": {
      "name": "python"
    }
  },
  "cells": [
    {
      "cell_type": "code",
      "execution_count": 1,
      "metadata": {
        "colab": {
          "base_uri": "https://localhost:8080/"
        },
        "id": "Yiai_7xInzFY",
        "outputId": "59735c5a-edf3-41a9-b5a8-2855ff03dc07"
      },
      "outputs": [
        {
          "output_type": "stream",
          "name": "stdout",
          "text": [
            "{100: 'a', 101: 'e', 102: 'i', 103: 'o', 104: 'u'}\n"
          ]
        }
      ],
      "source": [
        "list1=[\"a\",\"e\",\"i\",\"o\",\"u\"]\n",
        "fun=enumerate(list1,100)\n",
        "dict1=dict(fun)\n",
        "print(dict1)"
      ]
    }
  ]
}